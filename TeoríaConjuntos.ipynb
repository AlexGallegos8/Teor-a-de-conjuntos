{
 "cells": [
  {
   "cell_type": "markdown",
   "id": "119a82b7",
   "metadata": {},
   "source": [
    "# Teoría de conjuntos"
   ]
  },
  {
   "cell_type": "markdown",
   "id": "f335b6a8",
   "metadata": {},
   "source": [
    "La teoría de conjuntos es una tarea fundamental de las matemáticas que trata sobre las propiedades y relaciones entre conjuntos, que son colecciones bien definidas de objetos. Python, como lenguaje de programación versátil, ofrece varias formas de trabajar con conjuntos y aplicar conceptos de teoría de conjuntos."
   ]
  },
  {
   "cell_type": "markdown",
   "id": "a998e7b1",
   "metadata": {},
   "source": [
    "## Creación de conjuntos"
   ]
  },
  {
   "cell_type": "code",
   "execution_count": 5,
   "id": "abaef02a",
   "metadata": {},
   "outputs": [],
   "source": [
    "lista = [1, 2, 3, 4, 5, 1, 2, 3, 4, 5]"
   ]
  },
  {
   "cell_type": "code",
   "execution_count": 6,
   "id": "6fbc07e0",
   "metadata": {},
   "outputs": [
    {
     "data": {
      "text/plain": [
       "[1, 2, 3, 4, 5, 1, 2, 3, 4, 5]"
      ]
     },
     "execution_count": 6,
     "metadata": {},
     "output_type": "execute_result"
    }
   ],
   "source": [
    "lista"
   ]
  },
  {
   "cell_type": "code",
   "execution_count": 9,
   "id": "d922a51c",
   "metadata": {},
   "outputs": [],
   "source": [
    "conjunto = set(lista)"
   ]
  },
  {
   "cell_type": "code",
   "execution_count": 10,
   "id": "3e5d854f",
   "metadata": {},
   "outputs": [
    {
     "data": {
      "text/plain": [
       "{1, 2, 3, 4, 5}"
      ]
     },
     "execution_count": 10,
     "metadata": {},
     "output_type": "execute_result"
    }
   ],
   "source": [
    "conjunto"
   ]
  },
  {
   "cell_type": "markdown",
   "id": "9f62c11f",
   "metadata": {},
   "source": [
    "## Operaciones"
   ]
  },
  {
   "cell_type": "markdown",
   "id": "2302e137",
   "metadata": {},
   "source": [
    "Python proporciona operadores y métodos para realizar operaciones básicas de conjuntos como unión, intersección, diferencia y diferencia simétrica"
   ]
  },
  {
   "cell_type": "markdown",
   "id": "73b84516",
   "metadata": {},
   "source": [
    "## Unión"
   ]
  },
  {
   "cell_type": "markdown",
   "id": "c2001244",
   "metadata": {},
   "source": [
    "La operación unión en teoria de conjuntos es una operacion que combina dos conjuntos para formar un nuevo conjunto que contiene todos los elementos"
   ]
  },
  {
   "cell_type": "markdown",
   "id": "87b4e35b",
   "metadata": {},
   "source": [
    "$$\n",
    "C= A\\cup B = {x:x \\in A \\quad o \\quad x \\in B}\n",
    "$$\n",
    "\n",
    "$$ es LaTeX in a Jupyter Notebook"
   ]
  },
  {
   "cell_type": "code",
   "execution_count": null,
   "id": "95acdf7e",
   "metadata": {},
   "outputs": [],
   "source": [
    "A | B"
   ]
  },
  {
   "cell_type": "code",
   "execution_count": null,
   "id": "78d1b045",
   "metadata": {},
   "outputs": [],
   "source": [
    "A.union(B)"
   ]
  },
  {
   "cell_type": "markdown",
   "id": "857c90e7",
   "metadata": {},
   "source": [
    "## Intersección"
   ]
  },
  {
   "cell_type": "markdown",
   "id": "33b84b1d",
   "metadata": {},
   "source": [
    "La intersección de conjuntos es una operación que devuelve un nuevo conjunto que contiene únicamente los elementos comunes a dos o más conjuntos. Es decir, se seleccionan aquellos elementos que están presentes en todos los conjuntos involucrados en la operación de intersección.\n",
    "\n",
    "$$\n",
    "R \\cap S = {x|x \\in R \\land x \\in S }\n",
    "$$"
   ]
  },
  {
   "cell_type": "code",
   "execution_count": 2,
   "id": "3e0eccef",
   "metadata": {},
   "outputs": [
    {
     "name": "stdout",
     "output_type": "stream",
     "text": [
      "{3}\n"
     ]
    }
   ],
   "source": [
    "set1 = {1, 2, 3} \n",
    "set2 = {3, 4, 5} \n",
    "intersection_set = set1.intersection(set2) \n",
    "print(intersection_set)"
   ]
  },
  {
   "cell_type": "markdown",
   "id": "912d4ce3",
   "metadata": {},
   "source": [
    "## Diferencia"
   ]
  },
  {
   "cell_type": "markdown",
   "id": "5a324a4b",
   "metadata": {},
   "source": [
    "Sean  y  dos conjuntos cualesquiera. El conjunto diferencia de  y , que se representa por , es el conjunto formado por todos los elementos que están en , pero no están en .\n",
    "\n",
    "Sean  y  dos conjuntos. La diferencia de conjuntos  es:\n",
    "\n",
    "$$\n",
    "A - B = {x \\in A y x \\notin B}\n",
    "$$"
   ]
  },
  {
   "cell_type": "code",
   "execution_count": 5,
   "id": "0ff541d7",
   "metadata": {},
   "outputs": [
    {
     "name": "stdout",
     "output_type": "stream",
     "text": [
      "{1, 2}\n"
     ]
    }
   ],
   "source": [
    "set1 = {1, 2, 3} \n",
    "set2 = {3, 4, 5} \n",
    "set3 = set1 - set2\n",
    "print(set3)"
   ]
  },
  {
   "cell_type": "markdown",
   "id": "0543c6f6",
   "metadata": {},
   "source": [
    "## Diferencia simétrica"
   ]
  },
  {
   "cell_type": "markdown",
   "id": "e0c821c8",
   "metadata": {},
   "source": [
    "La diferencia simétrica es el conjunto de elementos que solo pertenecen A o B pero no a ambos a la vez.\n",
    "\n",
    "$$\n",
    "A \\Delta B = {x/(x \\in A y x \\notin B) o (x \\in B y x \\notin A)}\n",
    "$$"
   ]
  },
  {
   "cell_type": "code",
   "execution_count": 4,
   "id": "40b14514",
   "metadata": {},
   "outputs": [
    {
     "name": "stdout",
     "output_type": "stream",
     "text": [
      "{1, 2, 4, 5}\n"
     ]
    }
   ],
   "source": [
    "set1 = {1, 2, 3} \n",
    "set2 = {3, 4, 5} \n",
    "symmetric_difference_set = set1.symmetric_difference(set2) \n",
    "print(symmetric_difference_set)"
   ]
  }
 ],
 "metadata": {
  "kernelspec": {
   "display_name": "Python 3 (ipykernel)",
   "language": "python",
   "name": "python3"
  },
  "language_info": {
   "codemirror_mode": {
    "name": "ipython",
    "version": 3
   },
   "file_extension": ".py",
   "mimetype": "text/x-python",
   "name": "python",
   "nbconvert_exporter": "python",
   "pygments_lexer": "ipython3",
   "version": "3.10.9"
  }
 },
 "nbformat": 4,
 "nbformat_minor": 5
}
