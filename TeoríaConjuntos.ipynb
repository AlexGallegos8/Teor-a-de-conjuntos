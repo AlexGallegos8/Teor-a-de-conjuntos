{
 "cells": [
  {
   "cell_type": "markdown",
   "id": "0ac2ddf0",
   "metadata": {},
   "source": [
    "# Teoría de conjuntos"
   ]
  },
  {
   "cell_type": "markdown",
   "id": "f7a662ba",
   "metadata": {},
   "source": [
    "La teoría de conjuntos es una tarea fundamental de las matemáticas que trata sobre las propiedades y relaciones entre conjuntos, que son colecciones bien definidas de objetos. Python, como lenguaje de programación versátil, ofrece varias formas de trabajar con conjuntos y aplicar conceptos de teoría de conjuntos."
   ]
  },
  {
   "cell_type": "markdown",
   "id": "c65e4067",
   "metadata": {},
   "source": [
    "## Creación de conjuntos"
   ]
  },
  {
   "cell_type": "code",
   "execution_count": 5,
   "id": "fd8a6bac",
   "metadata": {},
   "outputs": [],
   "source": [
    "lista = [1, 2, 3, 4, 5, 1, 2, 3, 4, 5]"
   ]
  },
  {
   "cell_type": "code",
   "execution_count": 6,
   "id": "6503bad5",
   "metadata": {},
   "outputs": [
    {
     "data": {
      "text/plain": [
       "[1, 2, 3, 4, 5, 1, 2, 3, 4, 5]"
      ]
     },
     "execution_count": 6,
     "metadata": {},
     "output_type": "execute_result"
    }
   ],
   "source": [
    "lista"
   ]
  },
  {
   "cell_type": "code",
   "execution_count": 9,
   "id": "69ff99fc",
   "metadata": {},
   "outputs": [],
   "source": [
    "conjunto = set(lista)"
   ]
  },
  {
   "cell_type": "code",
   "execution_count": 10,
   "id": "755b704f",
   "metadata": {},
   "outputs": [
    {
     "data": {
      "text/plain": [
       "{1, 2, 3, 4, 5}"
      ]
     },
     "execution_count": 10,
     "metadata": {},
     "output_type": "execute_result"
    }
   ],
   "source": [
    "conjunto"
   ]
  },
  {
   "cell_type": "markdown",
   "id": "85735aca",
   "metadata": {},
   "source": [
    "## Operaciones"
   ]
  },
  {
   "cell_type": "markdown",
   "id": "796411b3",
   "metadata": {},
   "source": [
    "Python proporciona operadores y métodos para realizar operaciones básicas de conjuntos como unión, intersección, diferencia y diferencia simétrica"
   ]
  },
  {
   "cell_type": "markdown",
   "id": "822c51e8",
   "metadata": {},
   "source": [
    "## Unión"
   ]
  },
  {
   "cell_type": "markdown",
   "id": "4950621d",
   "metadata": {},
   "source": [
    "La operación unión en teoria de conjuntos es una operacion que combina dos conjuntos para formar un nuevo conjunto que contiene todos los elementos"
   ]
  },
  {
   "cell_type": "markdown",
   "id": "45c7d928",
   "metadata": {},
   "source": [
    "$$\n",
    "C= A\\cup B = {x:x \\in A \\quad o \\quad x \\in B}\n",
    "$$\n",
    "\n",
    "$$ es LaTeX in a Jupyter Notebook"
   ]
  },
  {
   "cell_type": "code",
   "execution_count": null,
   "id": "d10a3c98",
   "metadata": {},
   "outputs": [],
   "source": [
    "A | B"
   ]
  },
  {
   "cell_type": "code",
   "execution_count": null,
   "id": "526ce6fa",
   "metadata": {},
   "outputs": [],
   "source": [
    "A.union(B)"
   ]
  },
  {
   "cell_type": "markdown",
   "id": "31cfee58",
   "metadata": {},
   "source": [
    "## Intersección"
   ]
  },
  {
   "cell_type": "markdown",
   "id": "68c76272",
   "metadata": {},
   "source": [
    "La intersección de conjuntos es una operación que devuelve un nuevo conjunto que contiene únicamente los elementos comunes a dos o más conjuntos. Es decir, se seleccionan aquellos elementos que están presentes en todos los conjuntos involucrados en la operación de intersección.\n",
    "\n",
    "$$\n",
    "R \\cap S = {x|x \\in R \\land x \\in S }\n",
    "$$"
   ]
  },
  {
   "cell_type": "markdown",
   "id": "e0648624",
   "metadata": {},
   "source": [
    "## Diferencia"
   ]
  },
  {
   "cell_type": "markdown",
   "id": "d547a3d4",
   "metadata": {},
   "source": [
    "Sean  y  dos conjuntos cualesquiera. El conjunto diferencia de  y , que se representa por , es el conjunto formado por todos los elementos que están en , pero no están en .\n",
    "\n",
    "Sean  y  dos conjuntos. La diferencia de conjuntos  es:\n",
    "\n",
    "$$\n",
    "A - B = {x \\in A y x \\notin B}\n",
    "$$"
   ]
  },
  {
   "cell_type": "markdown",
   "id": "20792bfe",
   "metadata": {},
   "source": [
    "## Diferencia simétrica"
   ]
  },
  {
   "cell_type": "markdown",
   "id": "93a24b59",
   "metadata": {},
   "source": [
    "La diferencia simétrica es el conjunto de elementos que solo pertenecen A o B pero no a ambos a la vez.\n",
    "\n",
    "$$\n",
    "A \\Delta B = {x/(x \\in A y x \\notin B) o (x \\in B y x \\notin A)}\n",
    "$$"
   ]
  }
 ],
 "metadata": {
  "kernelspec": {
   "display_name": "Python 3 (ipykernel)",
   "language": "python",
   "name": "python3"
  },
  "language_info": {
   "codemirror_mode": {
    "name": "ipython",
    "version": 3
   },
   "file_extension": ".py",
   "mimetype": "text/x-python",
   "name": "python",
   "nbconvert_exporter": "python",
   "pygments_lexer": "ipython3",
   "version": "3.10.9"
  }
 },
 "nbformat": 4,
 "nbformat_minor": 5
}
